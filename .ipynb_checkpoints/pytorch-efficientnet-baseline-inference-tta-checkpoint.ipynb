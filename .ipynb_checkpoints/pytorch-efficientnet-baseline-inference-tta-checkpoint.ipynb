{
 "cells": [
  {
   "cell_type": "code",
   "execution_count": 1,
   "metadata": {
    "execution": {
     "iopub.execute_input": "2020-11-23T23:46:18.649286Z",
     "iopub.status.busy": "2020-11-23T23:46:18.648210Z",
     "iopub.status.idle": "2020-11-23T23:46:18.651308Z",
     "shell.execute_reply": "2020-11-23T23:46:18.650741Z"
    },
    "papermill": {
     "duration": 0.02566,
     "end_time": "2020-11-23T23:46:18.651431",
     "exception": false,
     "start_time": "2020-11-23T23:46:18.625771",
     "status": "completed"
    },
    "tags": []
   },
   "outputs": [],
   "source": [
    "# package_path = '../input/pytorch-image-models/pytorch-image-models-master' #'../input/efficientnet-pytorch-07/efficientnet_pytorch-0.7.0'\n",
    "# import sys; sys.path.append(package_path)"
   ]
  },
  {
   "cell_type": "code",
   "execution_count": 16,
   "metadata": {},
   "outputs": [
    {
     "data": {
      "text/plain": [
       "0"
      ]
     },
     "execution_count": 16,
     "metadata": {},
     "output_type": "execute_result"
    }
   ],
   "source": [
    "import os\n",
    "os.environ['TORCH_HOME']= \"../\"\n",
    "os.system('apt update')\n",
    "os.system('apt -y install libgl1-mesa-glx --allow-remove-essential ')"
   ]
  },
  {
   "cell_type": "code",
   "execution_count": 1,
   "metadata": {
    "_cell_guid": "b1076dfc-b9ad-4769-8c92-a6c4dae69d19",
    "_uuid": "8f2839f25d086af736a60e9eeb907d3b93b6e0e5",
    "execution": {
     "iopub.execute_input": "2020-11-23T23:46:18.694218Z",
     "iopub.status.busy": "2020-11-23T23:46:18.693498Z",
     "iopub.status.idle": "2020-11-23T23:46:21.905203Z",
     "shell.execute_reply": "2020-11-23T23:46:21.903733Z"
    },
    "papermill": {
     "duration": 3.237713,
     "end_time": "2020-11-23T23:46:21.905378",
     "exception": false,
     "start_time": "2020-11-23T23:46:18.667665",
     "status": "completed"
    },
    "tags": []
   },
   "outputs": [],
   "source": [
    "from glob import glob\n",
    "from sklearn.model_selection import GroupKFold, StratifiedKFold\n",
    "import cv2\n",
    "from skimage import io\n",
    "import torch\n",
    "from torch import nn\n",
    "import os\n",
    "from datetime import datetime\n",
    "import time\n",
    "import random\n",
    "import cv2\n",
    "import torchvision\n",
    "from torchvision import transforms\n",
    "import pandas as pd\n",
    "import numpy as np\n",
    "from tqdm import tqdm\n",
    "\n",
    "import matplotlib.pyplot as plt\n",
    "from torch.utils.data import Dataset,DataLoader\n",
    "from torch.utils.data.sampler import SequentialSampler, RandomSampler\n",
    "from  torch.cuda.amp import autocast, GradScaler\n",
    "\n",
    "import sklearn\n",
    "import warnings\n",
    "import joblib\n",
    "from sklearn.metrics import roc_auc_score, log_loss\n",
    "from sklearn import metrics\n",
    "import warnings\n",
    "import cv2\n",
    "import pydicom\n",
    "import timm #from efficientnet_pytorch import EfficientNet\n",
    "from scipy.ndimage.interpolation import zoom\n",
    "from sklearn.metrics import log_loss\n",
    "import config"
   ]
  },
  {
   "cell_type": "code",
   "execution_count": 2,
   "metadata": {},
   "outputs": [],
   "source": [
    "black_bk_path = '/data/fengjing/terr_test/baokong_bk'\n",
    "model_path = '../checkpoint_efficient_b4/'"
   ]
  },
  {
   "cell_type": "code",
   "execution_count": 4,
   "metadata": {
    "execution": {
     "iopub.execute_input": "2020-11-23T23:46:21.946850Z",
     "iopub.status.busy": "2020-11-23T23:46:21.944855Z",
     "iopub.status.idle": "2020-11-23T23:46:21.947586Z",
     "shell.execute_reply": "2020-11-23T23:46:21.948111Z"
    },
    "papermill": {
     "duration": 0.026655,
     "end_time": "2020-11-23T23:46:21.948257",
     "exception": false,
     "start_time": "2020-11-23T23:46:21.921602",
     "status": "completed"
    },
    "tags": []
   },
   "outputs": [],
   "source": [
    "CFG = {\n",
    "    'fold_num': 5,\n",
    "    'seed': 719,\n",
    "    'model_arch': 'tf_efficientnet_b4_ns',\n",
    "    'img_size': 224,\n",
    "    'epochs': 10,\n",
    "    'train_bs': 1,\n",
    "    'valid_bs': 1,\n",
    "    'lr': 1e-4,\n",
    "    'num_workers': 1,\n",
    "    'accum_iter': 1, # suppoprt to do batch accumulation for backprop with effectively larger batch size\n",
    "    'verbose_step': 1,\n",
    "    'device': 'cuda:1',\n",
    "#     'device': 'cpu',\n",
    "    'tta': 3,\n",
    "    'used_epochs': [6,7,8,9],\n",
    "    'weights': [1,1,1,1]\n",
    "}"
   ]
  },
  {
   "cell_type": "code",
   "execution_count": null,
   "metadata": {},
   "outputs": [],
   "source": []
  },
  {
   "cell_type": "code",
   "execution_count": 4,
   "metadata": {
    "_cell_guid": "79c7e3d0-c299-4dcb-8224-4455121ee9b0",
    "_uuid": "d629ff2d2480ee46fbb7e2d37f6b5fab8052498a",
    "execution": {
     "iopub.execute_input": "2020-11-23T23:46:21.987551Z",
     "iopub.status.busy": "2020-11-23T23:46:21.986510Z",
     "iopub.status.idle": "2020-11-23T23:46:22.025670Z",
     "shell.execute_reply": "2020-11-23T23:46:22.026195Z"
    },
    "papermill": {
     "duration": 0.062148,
     "end_time": "2020-11-23T23:46:22.026368",
     "exception": false,
     "start_time": "2020-11-23T23:46:21.964220",
     "status": "completed"
    },
    "tags": []
   },
   "outputs": [
    {
     "data": {
      "text/html": [
       "<div>\n",
       "<style scoped>\n",
       "    .dataframe tbody tr th:only-of-type {\n",
       "        vertical-align: middle;\n",
       "    }\n",
       "\n",
       "    .dataframe tbody tr th {\n",
       "        vertical-align: top;\n",
       "    }\n",
       "\n",
       "    .dataframe thead th {\n",
       "        text-align: right;\n",
       "    }\n",
       "</style>\n",
       "<table border=\"1\" class=\"dataframe\">\n",
       "  <thead>\n",
       "    <tr style=\"text-align: right;\">\n",
       "      <th></th>\n",
       "      <th>Unnamed: 0</th>\n",
       "      <th>image_id</th>\n",
       "      <th>label</th>\n",
       "    </tr>\n",
       "  </thead>\n",
       "  <tbody>\n",
       "    <tr>\n",
       "      <th>0</th>\n",
       "      <td>0</td>\n",
       "      <td>../data/terrorism_train/bloody_car/bloody_car ...</td>\n",
       "      <td>1</td>\n",
       "    </tr>\n",
       "    <tr>\n",
       "      <th>1</th>\n",
       "      <td>1</td>\n",
       "      <td>../data/terrorism_train/bloody_car/bloody_car ...</td>\n",
       "      <td>1</td>\n",
       "    </tr>\n",
       "    <tr>\n",
       "      <th>2</th>\n",
       "      <td>2</td>\n",
       "      <td>../data/terrorism_train/bloody_car/bloody_car ...</td>\n",
       "      <td>1</td>\n",
       "    </tr>\n",
       "    <tr>\n",
       "      <th>3</th>\n",
       "      <td>3</td>\n",
       "      <td>../data/terrorism_train/bloody_car/bloody_car ...</td>\n",
       "      <td>1</td>\n",
       "    </tr>\n",
       "    <tr>\n",
       "      <th>4</th>\n",
       "      <td>4</td>\n",
       "      <td>../data/terrorism_train/bloody_car/bloody_car ...</td>\n",
       "      <td>1</td>\n",
       "    </tr>\n",
       "  </tbody>\n",
       "</table>\n",
       "</div>"
      ],
      "text/plain": [
       "   Unnamed: 0                                           image_id  label\n",
       "0           0  ../data/terrorism_train/bloody_car/bloody_car ...      1\n",
       "1           1  ../data/terrorism_train/bloody_car/bloody_car ...      1\n",
       "2           2  ../data/terrorism_train/bloody_car/bloody_car ...      1\n",
       "3           3  ../data/terrorism_train/bloody_car/bloody_car ...      1\n",
       "4           4  ../data/terrorism_train/bloody_car/bloody_car ...      1"
      ]
     },
     "execution_count": 4,
     "metadata": {},
     "output_type": "execute_result"
    }
   ],
   "source": [
    "train = pd.read_csv('baokong_train.csv')\n",
    "train.head()"
   ]
  },
  {
   "cell_type": "code",
   "execution_count": 5,
   "metadata": {
    "execution": {
     "iopub.execute_input": "2020-11-23T23:46:22.065064Z",
     "iopub.status.busy": "2020-11-23T23:46:22.064415Z",
     "iopub.status.idle": "2020-11-23T23:46:22.073660Z",
     "shell.execute_reply": "2020-11-23T23:46:22.074162Z"
    },
    "papermill": {
     "duration": 0.0306,
     "end_time": "2020-11-23T23:46:22.074344",
     "exception": false,
     "start_time": "2020-11-23T23:46:22.043744",
     "status": "completed"
    },
    "tags": []
   },
   "outputs": [
    {
     "data": {
      "text/plain": [
       "15    33345\n",
       "18    11044\n",
       "20     9940\n",
       "25     7367\n",
       "33     5962\n",
       "14     5614\n",
       "10     4707\n",
       "1      3545\n",
       "29     3307\n",
       "34     3192\n",
       "4      3003\n",
       "30     2309\n",
       "3      2053\n",
       "21     1601\n",
       "6      1600\n",
       "19     1492\n",
       "23     1377\n",
       "5      1361\n",
       "11     1306\n",
       "28     1275\n",
       "8      1265\n",
       "9      1176\n",
       "31     1147\n",
       "17      952\n",
       "7       933\n",
       "32      889\n",
       "22      838\n",
       "27      756\n",
       "24      511\n",
       "2       469\n",
       "16      417\n",
       "13      398\n",
       "12      266\n",
       "26        1\n",
       "Name: label, dtype: int64"
      ]
     },
     "execution_count": 5,
     "metadata": {},
     "output_type": "execute_result"
    }
   ],
   "source": [
    "train.label.value_counts()"
   ]
  },
  {
   "cell_type": "code",
   "execution_count": null,
   "metadata": {},
   "outputs": [],
   "source": []
  },
  {
   "cell_type": "markdown",
   "metadata": {
    "papermill": {
     "duration": 0.017463,
     "end_time": "2020-11-23T23:46:22.108390",
     "exception": false,
     "start_time": "2020-11-23T23:46:22.090927",
     "status": "completed"
    },
    "tags": []
   },
   "source": [
    "> We could do stratified validation split in each fold to make each fold's train and validation set looks like the whole train set in target distributions."
   ]
  },
  {
   "cell_type": "code",
   "execution_count": 6,
   "metadata": {
    "execution": {
     "iopub.execute_input": "2020-11-23T23:46:22.150213Z",
     "iopub.status.busy": "2020-11-23T23:46:22.149203Z",
     "iopub.status.idle": "2020-11-23T23:46:22.160617Z",
     "shell.execute_reply": "2020-11-23T23:46:22.159996Z"
    },
    "papermill": {
     "duration": 0.035029,
     "end_time": "2020-11-23T23:46:22.160746",
     "exception": false,
     "start_time": "2020-11-23T23:46:22.125717",
     "status": "completed"
    },
    "tags": []
   },
   "outputs": [
    {
     "data": {
      "text/html": [
       "<div>\n",
       "<style scoped>\n",
       "    .dataframe tbody tr th:only-of-type {\n",
       "        vertical-align: middle;\n",
       "    }\n",
       "\n",
       "    .dataframe tbody tr th {\n",
       "        vertical-align: top;\n",
       "    }\n",
       "\n",
       "    .dataframe thead th {\n",
       "        text-align: right;\n",
       "    }\n",
       "</style>\n",
       "<table border=\"1\" class=\"dataframe\">\n",
       "  <thead>\n",
       "    <tr style=\"text-align: right;\">\n",
       "      <th></th>\n",
       "      <th>Unnamed: 0</th>\n",
       "      <th>image_id</th>\n",
       "      <th>label</th>\n",
       "    </tr>\n",
       "  </thead>\n",
       "  <tbody>\n",
       "    <tr>\n",
       "      <th>0</th>\n",
       "      <td>0</td>\n",
       "      <td>../data/terrorism_test/baokong_bk/1015_n_v2bf6...</td>\n",
       "      <td>100</td>\n",
       "    </tr>\n",
       "    <tr>\n",
       "      <th>1</th>\n",
       "      <td>1</td>\n",
       "      <td>../data/terrorism_test/baokong_bk/1021_132.jpg</td>\n",
       "      <td>100</td>\n",
       "    </tr>\n",
       "    <tr>\n",
       "      <th>2</th>\n",
       "      <td>2</td>\n",
       "      <td>../data/terrorism_test/baokong_bk/1022_n_v20f5...</td>\n",
       "      <td>100</td>\n",
       "    </tr>\n",
       "    <tr>\n",
       "      <th>3</th>\n",
       "      <td>3</td>\n",
       "      <td>../data/terrorism_test/baokong_bk/1029_n_v274f...</td>\n",
       "      <td>100</td>\n",
       "    </tr>\n",
       "    <tr>\n",
       "      <th>4</th>\n",
       "      <td>4</td>\n",
       "      <td>../data/terrorism_test/baokong_bk/1038_n_v24f8...</td>\n",
       "      <td>100</td>\n",
       "    </tr>\n",
       "  </tbody>\n",
       "</table>\n",
       "</div>"
      ],
      "text/plain": [
       "   Unnamed: 0                                           image_id  label\n",
       "0           0  ../data/terrorism_test/baokong_bk/1015_n_v2bf6...    100\n",
       "1           1     ../data/terrorism_test/baokong_bk/1021_132.jpg    100\n",
       "2           2  ../data/terrorism_test/baokong_bk/1022_n_v20f5...    100\n",
       "3           3  ../data/terrorism_test/baokong_bk/1029_n_v274f...    100\n",
       "4           4  ../data/terrorism_test/baokong_bk/1038_n_v24f8...    100"
      ]
     },
     "execution_count": 6,
     "metadata": {},
     "output_type": "execute_result"
    }
   ],
   "source": [
    "submission = pd.read_csv('baokong_test.csv')\n",
    "submission.head()"
   ]
  },
  {
   "cell_type": "markdown",
   "metadata": {
    "papermill": {
     "duration": 0.017744,
     "end_time": "2020-11-23T23:46:22.196733",
     "exception": false,
     "start_time": "2020-11-23T23:46:22.178989",
     "status": "completed"
    },
    "tags": []
   },
   "source": [
    "# Helper Functions"
   ]
  },
  {
   "cell_type": "code",
   "execution_count": 5,
   "metadata": {
    "execution": {
     "iopub.execute_input": "2020-11-23T23:46:22.242202Z",
     "iopub.status.busy": "2020-11-23T23:46:22.241442Z",
     "iopub.status.idle": "2020-11-23T23:46:22.865807Z",
     "shell.execute_reply": "2020-11-23T23:46:22.863064Z"
    },
    "papermill": {
     "duration": 0.651041,
     "end_time": "2020-11-23T23:46:22.865996",
     "exception": false,
     "start_time": "2020-11-23T23:46:22.214955",
     "status": "completed"
    },
    "tags": []
   },
   "outputs": [
    {
     "data": {
      "image/png": "[encoded data removed]",
      "text/plain": [
       "<Figure size 432x288 with 1 Axes>"
      ]
     },
     "metadata": {
      "needs_background": "light"
     },
     "output_type": "display_data"
    }
   ],
   "source": [
    "def seed_everything(seed):\n",
    "    random.seed(seed)\n",
    "    os.environ['PYTHONHASHSEED'] = str(seed)\n",
    "    np.random.seed(seed)\n",
    "    torch.manual_seed(seed)\n",
    "    torch.cuda.manual_seed(seed)\n",
    "    torch.backends.cudnn.deterministic = True\n",
    "    torch.backends.cudnn.benchmark = True\n",
    "    \n",
    "def get_img(path):\n",
    "    im_bgr = cv2.imread(path)\n",
    "    im_rgb = im_bgr[:, :, ::-1]\n",
    "    #print(im_rgb)\n",
    "    return im_rgb\n",
    "\n",
    "img = get_img(os.path.join(black_bk_path,'992_n_v2801d95e121c64537b14803b01b7b146d.jpg.jpg'))\n",
    "\n",
    "plt.imshow(img)\n",
    "plt.show()"
   ]
  },
  {
   "cell_type": "markdown",
   "metadata": {
    "papermill": {
     "duration": 0.085731,
     "end_time": "2020-11-23T23:46:23.039268",
     "exception": false,
     "start_time": "2020-11-23T23:46:22.953537",
     "status": "completed"
    },
    "tags": []
   },
   "source": [
    "# Dataset"
   ]
  },
  {
   "cell_type": "code",
   "execution_count": 6,
   "metadata": {
    "execution": {
     "iopub.execute_input": "2020-11-23T23:46:23.215248Z",
     "iopub.status.busy": "2020-11-23T23:46:23.211953Z",
     "iopub.status.idle": "2020-11-23T23:46:23.238020Z",
     "shell.execute_reply": "2020-11-23T23:46:23.236708Z"
    },
    "papermill": {
     "duration": 0.113456,
     "end_time": "2020-11-23T23:46:23.238199",
     "exception": false,
     "start_time": "2020-11-23T23:46:23.124743",
     "status": "completed"
    },
    "tags": []
   },
   "outputs": [],
   "source": [
    "class CassavaDataset(Dataset):\n",
    "    def __init__(\n",
    "        self, df, data_root, transforms=None, output_label=True\n",
    "    ):\n",
    "        \n",
    "        super().__init__()\n",
    "        self.df = df.reset_index(drop=True).copy()\n",
    "        self.transforms = transforms\n",
    "        self.data_root = data_root\n",
    "        self.output_label = output_label\n",
    "    \n",
    "    def __len__(self):\n",
    "        return self.df.shape[0]\n",
    "    \n",
    "    def __getitem__(self, index: int):\n",
    "        \n",
    "        # get labels\n",
    "        if self.output_label:\n",
    "            target = self.df.iloc[index]['label']\n",
    "          \n",
    "        path =  self.df.iloc[index]['image_id']\n",
    "#         print(path)\n",
    "        try:\n",
    "            img  = get_img(os.path.join(self.data_root,path))\n",
    "        except:\n",
    "            img = get_img('../data/terrorism_test/baokong_bk/992_n_v2801d95e121c64537b14803b01b7b146d.jpg.jpg')\n",
    "            print('wrong')\n",
    "        \n",
    "        if self.transforms:\n",
    "            img = self.transforms(image=img)['image']\n",
    "            \n",
    "        # do label smoothing\n",
    "        if self.output_label == True:\n",
    "            return img, target\n",
    "        else:\n",
    "            return img"
   ]
  },
  {
   "cell_type": "markdown",
   "metadata": {
    "papermill": {
     "duration": 0.063244,
     "end_time": "2020-11-23T23:46:23.369451",
     "exception": false,
     "start_time": "2020-11-23T23:46:23.306207",
     "status": "completed"
    },
    "tags": []
   },
   "source": [
    "# Define Train\\Validation Image Augmentations"
   ]
  },
  {
   "cell_type": "code",
   "execution_count": 7,
   "metadata": {
    "execution": {
     "iopub.execute_input": "2020-11-23T23:46:23.534811Z",
     "iopub.status.busy": "2020-11-23T23:46:23.533554Z",
     "iopub.status.idle": "2020-11-23T23:46:24.482123Z",
     "shell.execute_reply": "2020-11-23T23:46:24.481548Z"
    },
    "papermill": {
     "duration": 1.044006,
     "end_time": "2020-11-23T23:46:24.482278",
     "exception": false,
     "start_time": "2020-11-23T23:46:23.438272",
     "status": "completed"
    },
    "tags": []
   },
   "outputs": [],
   "source": [
    "from albumentations import (\n",
    "    HorizontalFlip, VerticalFlip, IAAPerspective, ShiftScaleRotate, CLAHE, RandomRotate90,\n",
    "    Transpose, ShiftScaleRotate, Blur, OpticalDistortion, GridDistortion, HueSaturationValue,\n",
    "    IAAAdditiveGaussianNoise, GaussNoise, MotionBlur, MedianBlur, IAAPiecewiseAffine, RandomResizedCrop,\n",
    "    IAASharpen, IAAEmboss, RandomBrightnessContrast, Flip, OneOf, Compose, Normalize, Cutout, CoarseDropout, ShiftScaleRotate, CenterCrop, Resize\n",
    ")\n",
    "\n",
    "from albumentations.pytorch import ToTensorV2\n",
    "\n",
    "from albumentations import (\n",
    "    HorizontalFlip, VerticalFlip, IAAPerspective, ShiftScaleRotate, CLAHE, RandomRotate90,\n",
    "    Transpose, ShiftScaleRotate, Blur, OpticalDistortion, GridDistortion, HueSaturationValue,\n",
    "    IAAAdditiveGaussianNoise, GaussNoise, MotionBlur, MedianBlur, IAAPiecewiseAffine, RandomResizedCrop,\n",
    "    IAASharpen, IAAEmboss, RandomBrightnessContrast, Flip, OneOf, Compose, Normalize, Cutout, CoarseDropout, ShiftScaleRotate, CenterCrop, Resize\n",
    ")\n",
    "\n",
    "from albumentations.pytorch import ToTensorV2\n",
    "\n",
    "def get_train_transforms():\n",
    "    return Compose([\n",
    "            RandomResizedCrop(CFG['img_size'], CFG['img_size']),\n",
    "            Transpose(p=0.5),\n",
    "            HorizontalFlip(p=0.5),\n",
    "            VerticalFlip(p=0.5),\n",
    "            ShiftScaleRotate(p=0.5),\n",
    "            HueSaturationValue(hue_shift_limit=0.2, sat_shift_limit=0.2, val_shift_limit=0.2, p=0.5),\n",
    "            RandomBrightnessContrast(brightness_limit=(-0.1,0.1), contrast_limit=(-0.1, 0.1), p=0.5),\n",
    "            Normalize(mean=[0.485, 0.456, 0.406], std=[0.229, 0.224, 0.225], max_pixel_value=255.0, p=1.0),\n",
    "            CoarseDropout(p=0.5),\n",
    "            Cutout(p=0.5),\n",
    "            ToTensorV2(p=1.0),\n",
    "        ], p=1.)\n",
    "  \n",
    "        \n",
    "def get_valid_transforms():\n",
    "    return Compose([\n",
    "            CenterCrop(CFG['img_size'], CFG['img_size'], p=1.),\n",
    "            Resize(CFG['img_size'], CFG['img_size']),\n",
    "            Normalize(mean=[0.485, 0.456, 0.406], std=[0.229, 0.224, 0.225], max_pixel_value=255.0, p=1.0),\n",
    "            ToTensorV2(p=1.0),\n",
    "        ], p=1.)\n",
    "\n",
    "def get_inference_transforms():\n",
    "    return Compose([\n",
    "            RandomResizedCrop(CFG['img_size'], CFG['img_size']),\n",
    "            Transpose(p=0.5),\n",
    "            HorizontalFlip(p=0.5),\n",
    "            VerticalFlip(p=0.5),\n",
    "            HueSaturationValue(hue_shift_limit=0.2, sat_shift_limit=0.2, val_shift_limit=0.2, p=0.5),\n",
    "            RandomBrightnessContrast(brightness_limit=(-0.1,0.1), contrast_limit=(-0.1, 0.1), p=0.5),\n",
    "            Normalize(mean=[0.485, 0.456, 0.406], std=[0.229, 0.224, 0.225], max_pixel_value=255.0, p=1.0),\n",
    "            ToTensorV2(p=1.0),\n",
    "        ], p=1.)"
   ]
  },
  {
   "cell_type": "markdown",
   "metadata": {
    "papermill": {
     "duration": 0.024729,
     "end_time": "2020-11-23T23:46:24.532935",
     "exception": false,
     "start_time": "2020-11-23T23:46:24.508206",
     "status": "completed"
    },
    "tags": []
   },
   "source": [
    "# Model"
   ]
  },
  {
   "cell_type": "code",
   "execution_count": 8,
   "metadata": {
    "execution": {
     "iopub.execute_input": "2020-11-23T23:46:24.589784Z",
     "iopub.status.busy": "2020-11-23T23:46:24.589010Z",
     "iopub.status.idle": "2020-11-23T23:46:24.593279Z",
     "shell.execute_reply": "2020-11-23T23:46:24.592679Z"
    },
    "papermill": {
     "duration": 0.035858,
     "end_time": "2020-11-23T23:46:24.593387",
     "exception": false,
     "start_time": "2020-11-23T23:46:24.557529",
     "status": "completed"
    },
    "tags": []
   },
   "outputs": [],
   "source": [
    "class CassvaImgClassifier(nn.Module):\n",
    "    def __init__(self, model_arch, n_class, pretrained=False):\n",
    "        super().__init__()\n",
    "        self.model = timm.create_model(model_arch, pretrained=pretrained)\n",
    "        n_features = self.model.classifier.in_features\n",
    "        self.model.classifier = nn.Linear(n_features, n_class)\n",
    "        \n",
    "    def forward(self, x):\n",
    "        x = self.model(x)\n",
    "        return x"
   ]
  },
  {
   "cell_type": "markdown",
   "metadata": {
    "papermill": {
     "duration": 0.023326,
     "end_time": "2020-11-23T23:46:24.640029",
     "exception": false,
     "start_time": "2020-11-23T23:46:24.616703",
     "status": "completed"
    },
    "tags": []
   },
   "source": [
    "# Main Loop"
   ]
  },
  {
   "cell_type": "code",
   "execution_count": 9,
   "metadata": {},
   "outputs": [],
   "source": [
    "def post_processing(preds):\n",
    "    all_bloody_prob = 0\n",
    "    all_carbloody_prob = 0\n",
    "    all_normal_prob = 0\n",
    "    all_flag_prob = 0\n",
    "    all_emblem_prob = 0\n",
    "    all_carcrash_prob = 0\n",
    "    all_uniform_prob = 0\n",
    "    all_gun_prob = 0\n",
    "    all_knife_prob = 0\n",
    "    all_money_prob = 0\n",
    "    all_politics_pro = 0\n",
    "    all_scene_prob = 0\n",
    "    all_drug_prob = 0\n",
    "    all_map_prob = 0\n",
    "    for class_info in range(1,len(preds)):\n",
    "        class_info_ori = class_info\n",
    "        # if class_info ==15:\n",
    "        #     print(class_info)\n",
    "        tmp_name = config.num2name[class_info]\n",
    "        if tmp_name in config.class_dict2:\n",
    "            class_info = config.class_dict2[tmp_name]\n",
    "        score = preds[class_info_ori]\n",
    "\n",
    "        if class_info==0:\n",
    "            all_carbloody_prob+=np.round(score*10000)/100\n",
    "        elif  class_info==1:\n",
    "            all_carcrash_prob+=np.round(score*10000)/100\n",
    "        elif class_info==2 or class_info ==3 or class_info ==4:\n",
    "            all_bloody_prob += np.round(score * 10000) / 100\n",
    "        elif class_info==5 or class_info ==9 or class_info ==10:\n",
    "            all_scene_prob += np.round(score * 10000) / 100             #1\n",
    "        elif class_info == 6 or class_info == 20:\n",
    "            all_money_prob += np.round(score * 10000) / 100        #1\n",
    "        elif  class_info==7:\n",
    "            all_drug_prob+= np.round(score * 10000) / 100      #1\n",
    "        elif  class_info==13:\n",
    "            all_map_prob+= np.round(score * 10000) / 100      #1\n",
    "        elif class_info==12 or class_info ==15 or class_info ==16 or class_info ==18 or class_info ==19 or class_info ==22:\n",
    "            all_flag_prob += np.round(score * 10000) / 100 #1\n",
    "        elif class_info==24 or class_info ==26 or class_info ==25 or class_info ==28:\n",
    "            all_gun_prob += np.round(score * 10000) / 100 #1\n",
    "\n",
    "        elif  class_info==27:\n",
    "            all_knife_prob+= np.round(score * 10000) / 100#1\n",
    "        elif class_info==11 or class_info ==14 or class_info ==17 or class_info ==21:\n",
    "            all_emblem_prob += np.round(score * 10000) / 100#1\n",
    "\n",
    "        elif class_info == 8 or class_info == 23:\n",
    "            all_uniform_prob += np.round(score * 10000) / 100#1\n",
    "        else:\n",
    "            all_normal_prob += np.round(score * 10000) / 100\n",
    "\n",
    "    all_politics_pro = all_scene_prob + all_gun_prob + all_flag_prob + all_emblem_prob + all_uniform_prob + all_knife_prob + all_money_prob + all_drug_prob + all_map_prob\n",
    "\n",
    "    class_list = [(\"bloody\", all_bloody_prob),\n",
    "(\"carbloody\", all_carbloody_prob),\n",
    "(\"carcarsh\", all_carcrash_prob),\n",
    "(\"gun\", all_gun_prob),\n",
    "(\"flag\", all_flag_prob),\n",
    "(\"emblem\", all_emblem_prob),\n",
    "(\"uniform\", all_uniform_prob),\n",
    "(\"knife\", all_knife_prob),\n",
    "(\"money\", all_money_prob),\n",
    "(\"normal\", all_normal_prob),\n",
    "(\"politics\", all_politics_pro),\n",
    "(\"scene\", all_scene_prob),\n",
    "(\"drug\", all_drug_prob),\n",
    "(\"map\", all_map_prob),]\n",
    "\n",
    "    score_list =[all_bloody_prob,\n",
    "        all_carbloody_prob,\n",
    "        all_normal_prob,\n",
    "        all_flag_prob,\n",
    "        all_emblem_prob,\n",
    "        all_carcrash_prob,\n",
    "        all_uniform_prob,\n",
    "        all_gun_prob,\n",
    "        all_knife_prob,\n",
    "        all_money_prob,\n",
    "        all_politics_pro,\n",
    "        all_scene_prob,\n",
    "        all_drug_prob,\n",
    "        all_map_prob,]\n",
    "    a = np.array(score_list)\n",
    "    max_score = np.max(a)\n",
    "    max_score_index = score_list.index(max_score\n",
    "                                       )\n",
    "\n",
    "    return class_list[max_score_index]\n"
   ]
  },
  {
   "cell_type": "code",
   "execution_count": 10,
   "metadata": {
    "execution": {
     "iopub.execute_input": "2020-11-23T23:46:24.697986Z",
     "iopub.status.busy": "2020-11-23T23:46:24.697062Z",
     "iopub.status.idle": "2020-11-23T23:46:24.701707Z",
     "shell.execute_reply": "2020-11-23T23:46:24.701114Z"
    },
    "papermill": {
     "duration": 0.038473,
     "end_time": "2020-11-23T23:46:24.701815",
     "exception": false,
     "start_time": "2020-11-23T23:46:24.663342",
     "status": "completed"
    },
    "tags": []
   },
   "outputs": [],
   "source": [
    "def inference_one_epoch(model, data_loader, device):\n",
    "    model.eval()\n",
    "\n",
    "    image_preds_all = []\n",
    "    recall_num = 0\n",
    "    recall_list = [0]*9\n",
    "    wrong_num = 0\n",
    "    all_num = 0\n",
    "    pbar = tqdm(enumerate(data_loader), total=len(data_loader))\n",
    "    for step, (imgs) in pbar:\n",
    "        imgs = imgs.to(device).float()\n",
    "        \n",
    "        image_preds = model(imgs)   #output = model(input)\n",
    "        \n",
    "        preds = torch.softmax(image_preds, 1).detach().cpu().numpy()\n",
    "        for i in range(preds.shape[0]):\n",
    "            class_info, score = post_processing(preds[i])\n",
    "            if score > 90 and 'normal' not in class_info:\n",
    "\n",
    "                recall_num += 1\n",
    "\n",
    "            # else:\n",
    "\n",
    "                print(class_info, score)\n",
    "\n",
    "            if score > 90 and 'normal' not in class_info:\n",
    "\n",
    "                recall_list[0] += 1\n",
    "            if score > 85 and 'normal' not in class_info:\n",
    "                recall_list[1] += 1\n",
    "            if score > 80 and 'normal' not in class_info:\n",
    "                recall_list[2] += 1\n",
    "            if score > 75 and 'normal' not in class_info:\n",
    "                recall_list[3] += 1\n",
    "            if score > 70 and 'normal' not in class_info:\n",
    "                recall_list[4] += 1\n",
    "            if score > 65 and 'normal' not in class_info:\n",
    "                recall_list[5] += 1\n",
    "            if score > 60 and 'normal' not in class_info:\n",
    "                recall_list[6] += 1\n",
    "            if score > 55 and 'normal' not in class_info:\n",
    "                recall_list[7] += 1\n",
    "            if score > 50 and 'normal' not in class_info:\n",
    "                recall_list[8] += 1\n",
    "            all_num+=1\n",
    "        \n",
    "        \n",
    "    print(all_num)\n",
    "    print(recall_num,all_num)\n",
    "    print(recall_list,all_num)\n",
    "    print(np.array(recall_list)*1./all_num)\n",
    "#     return image_preds_all"
   ]
  },
  {
   "cell_type": "code",
   "execution_count": 11,
   "metadata": {},
   "outputs": [
    {
     "ename": "AssertionError",
     "evalue": "Torch not compiled with CUDA enabled",
     "output_type": "error",
     "traceback": [
      "\u001b[0;31m---------------------------------------------------------------------------\u001b[0m",
      "\u001b[0;31mAssertionError\u001b[0m                            Traceback (most recent call last)",
      "\u001b[0;32m<ipython-input-11-79e8accfd97f>\u001b[0m in \u001b[0;36m<module>\u001b[0;34m\u001b[0m\n\u001b[1;32m     12\u001b[0m         )\n\u001b[1;32m     13\u001b[0m         \u001b[0mdevice\u001b[0m \u001b[0;34m=\u001b[0m \u001b[0mtorch\u001b[0m\u001b[0;34m.\u001b[0m\u001b[0mdevice\u001b[0m\u001b[0;34m(\u001b[0m\u001b[0mCFG\u001b[0m\u001b[0;34m[\u001b[0m\u001b[0;34m'device'\u001b[0m\u001b[0;34m]\u001b[0m\u001b[0;34m)\u001b[0m\u001b[0;34m\u001b[0m\u001b[0;34m\u001b[0m\u001b[0m\n\u001b[0;32m---> 14\u001b[0;31m         \u001b[0mmodel\u001b[0m \u001b[0;34m=\u001b[0m \u001b[0mCassvaImgClassifier\u001b[0m\u001b[0;34m(\u001b[0m\u001b[0mCFG\u001b[0m\u001b[0;34m[\u001b[0m\u001b[0;34m'model_arch'\u001b[0m\u001b[0;34m]\u001b[0m\u001b[0;34m,\u001b[0m \u001b[0;36m35\u001b[0m\u001b[0;34m)\u001b[0m\u001b[0;34m.\u001b[0m\u001b[0mto\u001b[0m\u001b[0;34m(\u001b[0m\u001b[0mdevice\u001b[0m\u001b[0;34m)\u001b[0m\u001b[0;34m\u001b[0m\u001b[0;34m\u001b[0m\u001b[0m\n\u001b[0m\u001b[1;32m     15\u001b[0m \u001b[0;34m\u001b[0m\u001b[0m\n\u001b[1;32m     16\u001b[0m \u001b[0;31m#         val_preds = []\u001b[0m\u001b[0;34m\u001b[0m\u001b[0;34m\u001b[0m\u001b[0;34m\u001b[0m\u001b[0m\n",
      "\u001b[0;32m/data/fengjing/miniconda3/envs/torch171/lib/python3.7/site-packages/torch/nn/modules/module.py\u001b[0m in \u001b[0;36mto\u001b[0;34m(self, *args, **kwargs)\u001b[0m\n\u001b[1;32m    610\u001b[0m             \u001b[0;32mreturn\u001b[0m \u001b[0mt\u001b[0m\u001b[0;34m.\u001b[0m\u001b[0mto\u001b[0m\u001b[0;34m(\u001b[0m\u001b[0mdevice\u001b[0m\u001b[0;34m,\u001b[0m \u001b[0mdtype\u001b[0m \u001b[0;32mif\u001b[0m \u001b[0mt\u001b[0m\u001b[0;34m.\u001b[0m\u001b[0mis_floating_point\u001b[0m\u001b[0;34m(\u001b[0m\u001b[0;34m)\u001b[0m \u001b[0;32melse\u001b[0m \u001b[0;32mNone\u001b[0m\u001b[0;34m,\u001b[0m \u001b[0mnon_blocking\u001b[0m\u001b[0;34m)\u001b[0m\u001b[0;34m\u001b[0m\u001b[0;34m\u001b[0m\u001b[0m\n\u001b[1;32m    611\u001b[0m \u001b[0;34m\u001b[0m\u001b[0m\n\u001b[0;32m--> 612\u001b[0;31m         \u001b[0;32mreturn\u001b[0m \u001b[0mself\u001b[0m\u001b[0;34m.\u001b[0m\u001b[0m_apply\u001b[0m\u001b[0;34m(\u001b[0m\u001b[0mconvert\u001b[0m\u001b[0;34m)\u001b[0m\u001b[0;34m\u001b[0m\u001b[0;34m\u001b[0m\u001b[0m\n\u001b[0m\u001b[1;32m    613\u001b[0m \u001b[0;34m\u001b[0m\u001b[0m\n\u001b[1;32m    614\u001b[0m     def register_backward_hook(\n",
      "\u001b[0;32m/data/fengjing/miniconda3/envs/torch171/lib/python3.7/site-packages/torch/nn/modules/module.py\u001b[0m in \u001b[0;36m_apply\u001b[0;34m(self, fn)\u001b[0m\n\u001b[1;32m    357\u001b[0m     \u001b[0;32mdef\u001b[0m \u001b[0m_apply\u001b[0m\u001b[0;34m(\u001b[0m\u001b[0mself\u001b[0m\u001b[0;34m,\u001b[0m \u001b[0mfn\u001b[0m\u001b[0;34m)\u001b[0m\u001b[0;34m:\u001b[0m\u001b[0;34m\u001b[0m\u001b[0;34m\u001b[0m\u001b[0m\n\u001b[1;32m    358\u001b[0m         \u001b[0;32mfor\u001b[0m \u001b[0mmodule\u001b[0m \u001b[0;32min\u001b[0m \u001b[0mself\u001b[0m\u001b[0;34m.\u001b[0m\u001b[0mchildren\u001b[0m\u001b[0;34m(\u001b[0m\u001b[0;34m)\u001b[0m\u001b[0;34m:\u001b[0m\u001b[0;34m\u001b[0m\u001b[0;34m\u001b[0m\u001b[0m\n\u001b[0;32m--> 359\u001b[0;31m             \u001b[0mmodule\u001b[0m\u001b[0;34m.\u001b[0m\u001b[0m_apply\u001b[0m\u001b[0;34m(\u001b[0m\u001b[0mfn\u001b[0m\u001b[0;34m)\u001b[0m\u001b[0;34m\u001b[0m\u001b[0;34m\u001b[0m\u001b[0m\n\u001b[0m\u001b[1;32m    360\u001b[0m \u001b[0;34m\u001b[0m\u001b[0m\n\u001b[1;32m    361\u001b[0m         \u001b[0;32mdef\u001b[0m \u001b[0mcompute_should_use_set_data\u001b[0m\u001b[0;34m(\u001b[0m\u001b[0mtensor\u001b[0m\u001b[0;34m,\u001b[0m \u001b[0mtensor_applied\u001b[0m\u001b[0;34m)\u001b[0m\u001b[0;34m:\u001b[0m\u001b[0;34m\u001b[0m\u001b[0;34m\u001b[0m\u001b[0m\n",
      "\u001b[0;32m/data/fengjing/miniconda3/envs/torch171/lib/python3.7/site-packages/torch/nn/modules/module.py\u001b[0m in \u001b[0;36m_apply\u001b[0;34m(self, fn)\u001b[0m\n\u001b[1;32m    357\u001b[0m     \u001b[0;32mdef\u001b[0m \u001b[0m_apply\u001b[0m\u001b[0;34m(\u001b[0m\u001b[0mself\u001b[0m\u001b[0;34m,\u001b[0m \u001b[0mfn\u001b[0m\u001b[0;34m)\u001b[0m\u001b[0;34m:\u001b[0m\u001b[0;34m\u001b[0m\u001b[0;34m\u001b[0m\u001b[0m\n\u001b[1;32m    358\u001b[0m         \u001b[0;32mfor\u001b[0m \u001b[0mmodule\u001b[0m \u001b[0;32min\u001b[0m \u001b[0mself\u001b[0m\u001b[0;34m.\u001b[0m\u001b[0mchildren\u001b[0m\u001b[0;34m(\u001b[0m\u001b[0;34m)\u001b[0m\u001b[0;34m:\u001b[0m\u001b[0;34m\u001b[0m\u001b[0;34m\u001b[0m\u001b[0m\n\u001b[0;32m--> 359\u001b[0;31m             \u001b[0mmodule\u001b[0m\u001b[0;34m.\u001b[0m\u001b[0m_apply\u001b[0m\u001b[0;34m(\u001b[0m\u001b[0mfn\u001b[0m\u001b[0;34m)\u001b[0m\u001b[0;34m\u001b[0m\u001b[0;34m\u001b[0m\u001b[0m\n\u001b[0m\u001b[1;32m    360\u001b[0m \u001b[0;34m\u001b[0m\u001b[0m\n\u001b[1;32m    361\u001b[0m         \u001b[0;32mdef\u001b[0m \u001b[0mcompute_should_use_set_data\u001b[0m\u001b[0;34m(\u001b[0m\u001b[0mtensor\u001b[0m\u001b[0;34m,\u001b[0m \u001b[0mtensor_applied\u001b[0m\u001b[0;34m)\u001b[0m\u001b[0;34m:\u001b[0m\u001b[0;34m\u001b[0m\u001b[0;34m\u001b[0m\u001b[0m\n",
      "\u001b[0;32m/data/fengjing/miniconda3/envs/torch171/lib/python3.7/site-packages/torch/nn/modules/module.py\u001b[0m in \u001b[0;36m_apply\u001b[0;34m(self, fn)\u001b[0m\n\u001b[1;32m    379\u001b[0m                 \u001b[0;31m# `with torch.no_grad():`\u001b[0m\u001b[0;34m\u001b[0m\u001b[0;34m\u001b[0m\u001b[0;34m\u001b[0m\u001b[0m\n\u001b[1;32m    380\u001b[0m                 \u001b[0;32mwith\u001b[0m \u001b[0mtorch\u001b[0m\u001b[0;34m.\u001b[0m\u001b[0mno_grad\u001b[0m\u001b[0;34m(\u001b[0m\u001b[0;34m)\u001b[0m\u001b[0;34m:\u001b[0m\u001b[0;34m\u001b[0m\u001b[0;34m\u001b[0m\u001b[0m\n\u001b[0;32m--> 381\u001b[0;31m                     \u001b[0mparam_applied\u001b[0m \u001b[0;34m=\u001b[0m \u001b[0mfn\u001b[0m\u001b[0;34m(\u001b[0m\u001b[0mparam\u001b[0m\u001b[0;34m)\u001b[0m\u001b[0;34m\u001b[0m\u001b[0;34m\u001b[0m\u001b[0m\n\u001b[0m\u001b[1;32m    382\u001b[0m                 \u001b[0mshould_use_set_data\u001b[0m \u001b[0;34m=\u001b[0m \u001b[0mcompute_should_use_set_data\u001b[0m\u001b[0;34m(\u001b[0m\u001b[0mparam\u001b[0m\u001b[0;34m,\u001b[0m \u001b[0mparam_applied\u001b[0m\u001b[0;34m)\u001b[0m\u001b[0;34m\u001b[0m\u001b[0;34m\u001b[0m\u001b[0m\n\u001b[1;32m    383\u001b[0m                 \u001b[0;32mif\u001b[0m \u001b[0mshould_use_set_data\u001b[0m\u001b[0;34m:\u001b[0m\u001b[0;34m\u001b[0m\u001b[0;34m\u001b[0m\u001b[0m\n",
      "\u001b[0;32m/data/fengjing/miniconda3/envs/torch171/lib/python3.7/site-packages/torch/nn/modules/module.py\u001b[0m in \u001b[0;36mconvert\u001b[0;34m(t)\u001b[0m\n\u001b[1;32m    608\u001b[0m             \u001b[0;32mif\u001b[0m \u001b[0mconvert_to_format\u001b[0m \u001b[0;32mis\u001b[0m \u001b[0;32mnot\u001b[0m \u001b[0;32mNone\u001b[0m \u001b[0;32mand\u001b[0m \u001b[0mt\u001b[0m\u001b[0;34m.\u001b[0m\u001b[0mdim\u001b[0m\u001b[0;34m(\u001b[0m\u001b[0;34m)\u001b[0m \u001b[0;34m==\u001b[0m \u001b[0;36m4\u001b[0m\u001b[0;34m:\u001b[0m\u001b[0;34m\u001b[0m\u001b[0;34m\u001b[0m\u001b[0m\n\u001b[1;32m    609\u001b[0m                 \u001b[0;32mreturn\u001b[0m \u001b[0mt\u001b[0m\u001b[0;34m.\u001b[0m\u001b[0mto\u001b[0m\u001b[0;34m(\u001b[0m\u001b[0mdevice\u001b[0m\u001b[0;34m,\u001b[0m \u001b[0mdtype\u001b[0m \u001b[0;32mif\u001b[0m \u001b[0mt\u001b[0m\u001b[0;34m.\u001b[0m\u001b[0mis_floating_point\u001b[0m\u001b[0;34m(\u001b[0m\u001b[0;34m)\u001b[0m \u001b[0;32melse\u001b[0m \u001b[0;32mNone\u001b[0m\u001b[0;34m,\u001b[0m \u001b[0mnon_blocking\u001b[0m\u001b[0;34m,\u001b[0m \u001b[0mmemory_format\u001b[0m\u001b[0;34m=\u001b[0m\u001b[0mconvert_to_format\u001b[0m\u001b[0;34m)\u001b[0m\u001b[0;34m\u001b[0m\u001b[0;34m\u001b[0m\u001b[0m\n\u001b[0;32m--> 610\u001b[0;31m             \u001b[0;32mreturn\u001b[0m \u001b[0mt\u001b[0m\u001b[0;34m.\u001b[0m\u001b[0mto\u001b[0m\u001b[0;34m(\u001b[0m\u001b[0mdevice\u001b[0m\u001b[0;34m,\u001b[0m \u001b[0mdtype\u001b[0m \u001b[0;32mif\u001b[0m \u001b[0mt\u001b[0m\u001b[0;34m.\u001b[0m\u001b[0mis_floating_point\u001b[0m\u001b[0;34m(\u001b[0m\u001b[0;34m)\u001b[0m \u001b[0;32melse\u001b[0m \u001b[0;32mNone\u001b[0m\u001b[0;34m,\u001b[0m \u001b[0mnon_blocking\u001b[0m\u001b[0;34m)\u001b[0m\u001b[0;34m\u001b[0m\u001b[0;34m\u001b[0m\u001b[0m\n\u001b[0m\u001b[1;32m    611\u001b[0m \u001b[0;34m\u001b[0m\u001b[0m\n\u001b[1;32m    612\u001b[0m         \u001b[0;32mreturn\u001b[0m \u001b[0mself\u001b[0m\u001b[0;34m.\u001b[0m\u001b[0m_apply\u001b[0m\u001b[0;34m(\u001b[0m\u001b[0mconvert\u001b[0m\u001b[0;34m)\u001b[0m\u001b[0;34m\u001b[0m\u001b[0;34m\u001b[0m\u001b[0m\n",
      "\u001b[0;32m/data/fengjing/miniconda3/envs/torch171/lib/python3.7/site-packages/torch/cuda/__init__.py\u001b[0m in \u001b[0;36m_lazy_init\u001b[0;34m()\u001b[0m\n\u001b[1;32m    164\u001b[0m                 \"Cannot re-initialize CUDA in forked subprocess. \" + msg)\n\u001b[1;32m    165\u001b[0m         \u001b[0;32mif\u001b[0m \u001b[0;32mnot\u001b[0m \u001b[0mhasattr\u001b[0m\u001b[0;34m(\u001b[0m\u001b[0mtorch\u001b[0m\u001b[0;34m.\u001b[0m\u001b[0m_C\u001b[0m\u001b[0;34m,\u001b[0m \u001b[0;34m'_cuda_getDeviceCount'\u001b[0m\u001b[0;34m)\u001b[0m\u001b[0;34m:\u001b[0m\u001b[0;34m\u001b[0m\u001b[0;34m\u001b[0m\u001b[0m\n\u001b[0;32m--> 166\u001b[0;31m             \u001b[0;32mraise\u001b[0m \u001b[0mAssertionError\u001b[0m\u001b[0;34m(\u001b[0m\u001b[0;34m\"Torch not compiled with CUDA enabled\"\u001b[0m\u001b[0;34m)\u001b[0m\u001b[0;34m\u001b[0m\u001b[0;34m\u001b[0m\u001b[0m\n\u001b[0m\u001b[1;32m    167\u001b[0m         \u001b[0;32mif\u001b[0m \u001b[0m_cudart\u001b[0m \u001b[0;32mis\u001b[0m \u001b[0;32mNone\u001b[0m\u001b[0;34m:\u001b[0m\u001b[0;34m\u001b[0m\u001b[0;34m\u001b[0m\u001b[0m\n\u001b[1;32m    168\u001b[0m             raise AssertionError(\n",
      "\u001b[0;31mAssertionError\u001b[0m: Torch not compiled with CUDA enabled"
     ]
    }
   ],
   "source": [
    "if __name__ == '__main__':\n",
    "        seed_everything(CFG['seed'])\n",
    "        test = pd.DataFrame()\n",
    "        test['image_id'] = list(os.listdir(black_bk_path))\n",
    "        test_ds = CassavaDataset(test, black_bk_path, transforms=get_inference_transforms(), output_label=False)\n",
    "        tst_loader = torch.utils.data.DataLoader(\n",
    "            test_ds, \n",
    "            batch_size=CFG['valid_bs'],\n",
    "            num_workers=CFG['num_workers'],\n",
    "            shuffle=False,\n",
    "            pin_memory=False,\n",
    "        )\n",
    "        device = torch.device(CFG['device'])\n",
    "        model = CassvaImgClassifier(CFG['model_arch'], 35).to(device)\n",
    "        \n",
    "#         val_preds = []\n",
    "#         tst_preds = []\n",
    "#         #for epoch in range(CFG['epochs']-3):\n",
    "# #         for i, epoch in enumerate(CFG['used_epochs']):  \n",
    "# #             model_path_final = os.path.join(model_path,'{}_fold_{}_{}'.format(CFG['model_arch']), fold, epoch)\n",
    "#         model_path_final = os.path.join(model_path,'tf_efficientnet_b4_ns_fold_0_19.pth')\n",
    "\n",
    "#         print(model_path_final)\n",
    "#         checkpoint = torch.load(model_path_final,map_location=device)\n",
    "# #             print(checkpoint.values())\n",
    "#         model.load_state_dict(checkpoint['state_dict'])\n",
    "\n",
    "# #             model.load_state_dict(torch.load(model_path_final,map_location=torch.device('cpu')))\n",
    "\n",
    "#         with torch.no_grad():\n",
    "#             for _ in range(CFG['tta']):\n",
    "#                 inference_one_epoch(model, tst_loader, device)\n",
    "                    \n",
    "#                     tst_preds += [CFG['weights'][i]/sum(CFG['weights'])/CFG['tta']*inference_one_epoch(model, tst_loader, device)]\n",
    "\n",
    "#         val_preds = np.mean(val_preds, axis=0) \n",
    "#         tst_preds = np.mean(tst_preds, axis=0) \n",
    "    "
   ]
  },
  {
   "cell_type": "code",
   "execution_count": 19,
   "metadata": {},
   "outputs": [
    {
     "data": {
      "text/plain": [
       "2604"
      ]
     },
     "execution_count": 19,
     "metadata": {},
     "output_type": "execute_result"
    }
   ],
   "source": [
    "len(tst_loader)"
   ]
  },
  {
   "cell_type": "code",
   "execution_count": 12,
   "metadata": {
    "execution": {
     "iopub.execute_input": "2020-11-23T23:46:24.775512Z",
     "iopub.status.busy": "2020-11-23T23:46:24.774615Z",
     "iopub.status.idle": "2020-11-24T00:05:54.102325Z",
     "shell.execute_reply": "2020-11-24T00:05:54.102860Z"
    },
    "papermill": {
     "duration": 1169.376151,
     "end_time": "2020-11-24T00:05:54.103010",
     "exception": false,
     "start_time": "2020-11-23T23:46:24.726859",
     "status": "completed"
    },
    "tags": []
   },
   "outputs": [
    {
     "name": "stdout",
     "output_type": "stream",
     "text": [
      "Inference fold 0 started\n"
     ]
    },
    {
     "name": "stderr",
     "output_type": "stream",
     "text": [
      "100%|██████████| 134/134 [01:41<00:00,  1.32it/s]\n",
      "100%|██████████| 1/1 [00:00<00:00,  1.55it/s]\n",
      "100%|██████████| 134/134 [01:36<00:00,  1.38it/s]\n",
      "100%|██████████| 1/1 [00:00<00:00,  4.78it/s]\n",
      "100%|██████████| 134/134 [01:37<00:00,  1.38it/s]\n",
      "100%|██████████| 1/1 [00:00<00:00,  7.41it/s]\n",
      "100%|██████████| 134/134 [01:35<00:00,  1.40it/s]\n",
      "100%|██████████| 1/1 [00:00<00:00,  7.76it/s]\n",
      "100%|██████████| 134/134 [01:33<00:00,  1.43it/s]\n",
      "100%|██████████| 1/1 [00:00<00:00,  8.10it/s]\n",
      "100%|██████████| 134/134 [01:31<00:00,  1.46it/s]\n",
      "100%|██████████| 1/1 [00:00<00:00,  8.41it/s]\n",
      "100%|██████████| 134/134 [01:32<00:00,  1.45it/s]\n",
      "100%|██████████| 1/1 [00:00<00:00,  5.15it/s]\n",
      "100%|██████████| 134/134 [01:37<00:00,  1.37it/s]\n",
      "100%|██████████| 1/1 [00:00<00:00,  4.62it/s]\n",
      "100%|██████████| 134/134 [01:36<00:00,  1.38it/s]\n",
      "100%|██████████| 1/1 [00:00<00:00,  7.59it/s]\n",
      "100%|██████████| 134/134 [01:35<00:00,  1.40it/s]\n",
      "100%|██████████| 1/1 [00:00<00:00,  8.43it/s]\n",
      "100%|██████████| 134/134 [01:36<00:00,  1.39it/s]\n",
      "100%|██████████| 1/1 [00:00<00:00,  7.31it/s]\n",
      "100%|██████████| 134/134 [01:39<00:00,  1.34it/s]\n",
      "100%|██████████| 1/1 [00:00<00:00,  7.79it/s]\n"
     ]
    },
    {
     "name": "stdout",
     "output_type": "stream",
     "text": [
      "fold 0 validation loss = 0.21773\n",
      "fold 0 validation accuracy = 0.93224\n"
     ]
    }
   ],
   "source": [
    "cache()"
   ]
  },
  {
   "cell_type": "code",
   "execution_count": 16,
   "metadata": {},
   "outputs": [
    {
     "data": {
      "text/plain": [
       "False"
      ]
     },
     "execution_count": 16,
     "metadata": {},
     "output_type": "execute_result"
    }
   ],
   "source": [
    "torch.cuda.is_available()"
   ]
  },
  {
   "cell_type": "code",
   "execution_count": 13,
   "metadata": {
    "execution": {
     "iopub.execute_input": "2020-11-24T00:05:55.423328Z",
     "iopub.status.busy": "2020-11-24T00:05:55.422241Z",
     "iopub.status.idle": "2020-11-24T00:05:55.426013Z",
     "shell.execute_reply": "2020-11-24T00:05:55.426572Z"
    },
    "papermill": {
     "duration": 0.678515,
     "end_time": "2020-11-24T00:05:55.426721",
     "exception": false,
     "start_time": "2020-11-24T00:05:54.748206",
     "status": "completed"
    },
    "tags": []
   },
   "outputs": [
    {
     "data": {
      "text/html": [
       "<div>\n",
       "<style scoped>\n",
       "    .dataframe tbody tr th:only-of-type {\n",
       "        vertical-align: middle;\n",
       "    }\n",
       "\n",
       "    .dataframe tbody tr th {\n",
       "        vertical-align: top;\n",
       "    }\n",
       "\n",
       "    .dataframe thead th {\n",
       "        text-align: right;\n",
       "    }\n",
       "</style>\n",
       "<table border=\"1\" class=\"dataframe\">\n",
       "  <thead>\n",
       "    <tr style=\"text-align: right;\">\n",
       "      <th></th>\n",
       "      <th>image_id</th>\n",
       "      <th>label</th>\n",
       "    </tr>\n",
       "  </thead>\n",
       "  <tbody>\n",
       "    <tr>\n",
       "      <th>0</th>\n",
       "      <td>2216849948.jpg</td>\n",
       "      <td>4</td>\n",
       "    </tr>\n",
       "  </tbody>\n",
       "</table>\n",
       "</div>"
      ],
      "text/plain": [
       "         image_id  label\n",
       "0  2216849948.jpg      4"
      ]
     },
     "execution_count": 13,
     "metadata": {},
     "output_type": "execute_result"
    }
   ],
   "source": [
    "# test['label'] = np.argmax(tst_preds, axis=1)\n",
    "# test.head()"
   ]
  },
  {
   "cell_type": "code",
   "execution_count": 14,
   "metadata": {
    "execution": {
     "iopub.execute_input": "2020-11-24T00:05:56.736317Z",
     "iopub.status.busy": "2020-11-24T00:05:56.735596Z",
     "iopub.status.idle": "2020-11-24T00:05:57.020046Z",
     "shell.execute_reply": "2020-11-24T00:05:57.018853Z"
    },
    "papermill": {
     "duration": 0.94599,
     "end_time": "2020-11-24T00:05:57.020175",
     "exception": false,
     "start_time": "2020-11-24T00:05:56.074185",
     "status": "completed"
    },
    "tags": []
   },
   "outputs": [],
   "source": [
    "# test.to_csv('submission.csv', index=False)"
   ]
  },
  {
   "cell_type": "markdown",
   "metadata": {
    "papermill": {
     "duration": 0.665977,
     "end_time": "2020-11-24T00:05:58.342461",
     "exception": false,
     "start_time": "2020-11-24T00:05:57.676484",
     "status": "completed"
    },
    "tags": []
   },
   "source": [
    "# Train part is here: https://www.kaggle.com/khyeh0719/pytorch-efficientnet-baseline-train-amp-aug"
   ]
  },
  {
   "cell_type": "code",
   "execution_count": null,
   "metadata": {
    "papermill": {
     "duration": 0.841,
     "end_time": "2020-11-24T00:05:59.844057",
     "exception": false,
     "start_time": "2020-11-24T00:05:59.003057",
     "status": "completed"
    },
    "tags": []
   },
   "outputs": [],
   "source": []
  }
 ],
 "metadata": {
  "kernelspec": {
   "display_name": "Python 3",
   "language": "python",
   "name": "python3"
  },
  "language_info": {
   "codemirror_mode": {
    "name": "ipython",
    "version": 3
   },
   "file_extension": ".py",
   "mimetype": "text/x-python",
   "name": "python",
   "nbconvert_exporter": "python",
   "pygments_lexer": "ipython3",
   "version": "3.7.9"
  },
  "papermill": {
   "duration": 1188.017422,
   "end_time": "2020-11-24T00:06:02.009298",
   "environment_variables": {},
   "exception": null,
   "input_path": "__notebook__.ipynb",
   "output_path": "__notebook__.ipynb",
   "parameters": {},
   "start_time": "2020-11-23T23:46:13.991876",
   "version": "2.1.0"
  }
 },
 "nbformat": 4,
 "nbformat_minor": 4
}
